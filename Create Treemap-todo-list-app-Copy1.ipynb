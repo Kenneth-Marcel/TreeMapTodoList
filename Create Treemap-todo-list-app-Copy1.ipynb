{
 "cells": [
  {
   "cell_type": "code",
   "execution_count": 224,
   "metadata": {},
   "outputs": [],
   "source": [
    "import numpy as np\n",
    "import matplotlib.pyplot as plt\n",
    "import pandas as pd\n",
    "import squarify\n",
    "\n",
    "\n",
    "#History = list() \n",
    "Tasks = list(['walk dog', 'make dinner', 'go gym', 'wash clothes'])\n",
    "prio = list([1, 5, 7, 3])\n",
    "\n",
    "def Addtask(Task,pr):\n",
    "    Tasks.append(Task)\n",
    "    prio.append(pr)\n",
    "    \n",
    "def Removetask(x):\n",
    "    k1 =(Tasks.index(x))\n",
    "    k = prio[k1]\n",
    "    prio.remove(k)\n",
    "    Tasks.remove(x)\n",
    "    History.append(x)\n",
    "    \n",
    "\n",
    "def Show():\n",
    "    squarify.plot(sizes=prio, label=Tasks, alpha=.3)\n",
    "    plt.axis('off')\n",
    "    plt.show()\n",
    "\n",
    "\n",
    "def history():\n",
    "    print(History)"
   ]
  },
  {
   "cell_type": "code",
   "execution_count": 223,
   "metadata": {},
   "outputs": [
    {
     "data": {
      "image/png": "[encoded data removed]",
      "text/plain": [
       "<Figure size 432x288 with 1 Axes>"
      ]
     },
     "metadata": {
      "needs_background": "light"
     },
     "output_type": "display_data"
    },
    {
     "name": "stdout",
     "output_type": "stream",
     "text": [
      "[1, 5, 7, 3] ['walk dog', 'make dinner', 'go gym', 'wash clothes']\n"
     ]
    }
   ],
   "source": [
    "Addtask('Fix door', 6)\n",
    "Removetask('Fix door')\n",
    "Show()\n",
    "print(prio, Tasks)"
   ]
  },
  {
   "cell_type": "code",
   "execution_count": 226,
   "metadata": {},
   "outputs": [],
   "source": []
  },
  {
   "cell_type": "code",
   "execution_count": null,
   "metadata": {},
   "outputs": [],
   "source": []
  }
 ],
 "metadata": {
  "kernelspec": {
   "display_name": "Python 3",
   "language": "python",
   "name": "python3"
  },
  "language_info": {
   "codemirror_mode": {
    "name": "ipython",
    "version": 3
   },
   "file_extension": ".py",
   "mimetype": "text/x-python",
   "name": "python",
   "nbconvert_exporter": "python",
   "pygments_lexer": "ipython3",
   "version": "3.7.3"
  }
 },
 "nbformat": 4,
 "nbformat_minor": 2
}
